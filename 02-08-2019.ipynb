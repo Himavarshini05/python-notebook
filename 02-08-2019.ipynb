{
 "cells": [
  {
   "cell_type": "code",
   "execution_count": 13,
   "metadata": {},
   "outputs": [
    {
     "name": "stdout",
     "output_type": "stream",
     "text": [
      "Enter the no of word you need to enter: 6\n",
      "abc\n",
      "ijk\n",
      "abc\n",
      "mno\n",
      "ijk\n",
      "abc\n",
      "3\n",
      "3 2 1 "
     ]
    }
   ],
   "source": [
    "n=int(input(\"Enter the no of word you need to enter: \"))\n",
    "a=[]\n",
    "for i in range(n):\n",
    "    a.append(input())\n",
    "unique=[]\n",
    "for i in a:\n",
    "    if i not in unique:\n",
    "        unique.append(i)\n",
    "print(len(unique))\n",
    "occ=[]\n",
    "for i in unique:\n",
    "    count=0\n",
    "    for j in a:\n",
    "        if i==j:\n",
    "            count+=1\n",
    "    occ.append(count)\n",
    "for i in occ:\n",
    "    print(i,end=\" \")"
   ]
  },
  {
   "cell_type": "code",
   "execution_count": 5,
   "metadata": {},
   "outputs": [
    {
     "name": "stdout",
     "output_type": "stream",
     "text": [
      "Enter a number: 6\n",
      "abc456@gmail.com\n",
      "456abc@yahoo.com\n",
      "abc 456@gitam.ed1\n",
      "abc-456@abc-d.in\n",
      "python@python.edu\n",
      "abc 456@edu.edu\n",
      "Valid\n",
      "Invalid\n",
      "Invalid\n",
      "Invalid\n",
      "Valid\n",
      "Invalid\n"
     ]
    }
   ],
   "source": [
    "import re\n",
    "n=int(input(\"Enter a number: \"))\n",
    "a=[]\n",
    "for i in range(n):\n",
    "    a.append(input())\n",
    "res=[]\n",
    "for i in a:\n",
    "    verify=re.match('^[a-z]+[-a-z0-9_]+(\\.[_a-z0-9-]+)*@[a-z0-9]+(\\.[a-z0-9]+)*(\\.[a-z]{2,4})$', i)\n",
    "    if verify==None:\n",
    "        print(\"Invalid\")\n",
    "    else:\n",
    "        print(\"Valid\")"
   ]
  },
  {
   "cell_type": "code",
   "execution_count": null,
   "metadata": {},
   "outputs": [],
   "source": []
  }
 ],
 "metadata": {
  "kernelspec": {
   "display_name": "Python 3",
   "language": "python",
   "name": "python3"
  },
  "language_info": {
   "codemirror_mode": {
    "name": "ipython",
    "version": 3
   },
   "file_extension": ".py",
   "mimetype": "text/x-python",
   "name": "python",
   "nbconvert_exporter": "python",
   "pygments_lexer": "ipython3",
   "version": "3.6.5"
  }
 },
 "nbformat": 4,
 "nbformat_minor": 2
}
