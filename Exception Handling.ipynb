{
 "cells": [
  {
   "cell_type": "code",
   "execution_count": 3,
   "metadata": {},
   "outputs": [
    {
     "name": "stdout",
     "output_type": "stream",
     "text": [
      "Enter a number: 33\n",
      "Enter a number: 1\n",
      "33.0\n",
      "Invalid input\n",
      "Done..!!\n"
     ]
    }
   ],
   "source": [
    "a=int(input(\"Enter a number: \"))\n",
    "b=int(input(\"Enter a number: \"))\n",
    "try:\n",
    "    print(a/b)\n",
    "    print(z)\n",
    "except:\n",
    "    print(\"Invalid input\")\n",
    "finally:\n",
    "    print(\"Done..!!\")"
   ]
  },
  {
   "cell_type": "code",
   "execution_count": 2,
   "metadata": {},
   "outputs": [
    {
     "name": "stdout",
     "output_type": "stream",
     "text": [
      "Enter a number: 5\n",
      "Enter a number: 0\n",
      "Invalid input : division by zero\n",
      "Done..!!\n"
     ]
    }
   ],
   "source": [
    "a=int(input(\"Enter a number: \"))\n",
    "b=int(input(\"Enter a number: \"))\n",
    "try:\n",
    "    print(a/b)\n",
    "except ZeroDivisionError as ze:\n",
    "    print(\"Invalid input :\",ze)\n",
    "print(\"Done..!!\")"
   ]
  },
  {
   "cell_type": "code",
   "execution_count": 1,
   "metadata": {},
   "outputs": [
    {
     "name": "stdout",
     "output_type": "stream",
     "text": [
      "Enter a number: 5\n",
      "Enter a number: 0\n",
      "b value should not be 0\n",
      "Done..!!\n"
     ]
    }
   ],
   "source": [
    "a=int(input(\"Enter a number: \"))\n",
    "b=int(input(\"Enter a number: \"))\n",
    "try:\n",
    "    print(a/b)\n",
    "    print(z) # this statement is not executed\n",
    "except ZeroDivisionError:\n",
    "    print(\"b value should not be 0\")\n",
    "finally:\n",
    "    print(\"Done..!!\")"
   ]
  },
  {
   "cell_type": "code",
   "execution_count": 4,
   "metadata": {},
   "outputs": [
    {
     "name": "stdout",
     "output_type": "stream",
     "text": [
      "Enter a number: 5\n",
      "Enter a number: 2\n",
      "2.5\n",
      "else block:(this is executed when no error in try block)\n",
      "Done..!!\n"
     ]
    }
   ],
   "source": [
    "a=int(input(\"Enter a number: \"))\n",
    "b=int(input(\"Enter a number: \"))\n",
    "try:\n",
    "    print(a/b)\n",
    "except (ZeroDivisionError,NameError,KeyError):\n",
    "    print(\"b value should not be 0\")\n",
    "else:\n",
    "    print(\"else block:(this is executed when no error in try block)\")\n",
    "finally:\n",
    "    print(\"Done..!!\")"
   ]
  },
  {
   "cell_type": "code",
   "execution_count": 5,
   "metadata": {},
   "outputs": [
    {
     "ename": "ZeroDivisionError",
     "evalue": "Helloo..",
     "output_type": "error",
     "traceback": [
      "\u001b[1;31m---------------------------------------------------------------------------\u001b[0m",
      "\u001b[1;31mZeroDivisionError\u001b[0m                         Traceback (most recent call last)",
      "\u001b[1;32m<ipython-input-5-cf80b30bdeb9>\u001b[0m in \u001b[0;36m<module>\u001b[1;34m()\u001b[0m\n\u001b[1;32m----> 1\u001b[1;33m \u001b[1;32mraise\u001b[0m \u001b[0mZeroDivisionError\u001b[0m\u001b[1;33m(\u001b[0m\u001b[1;34m\"Helloo..\"\u001b[0m\u001b[1;33m)\u001b[0m\u001b[1;33m\u001b[0m\u001b[0m\n\u001b[0m",
      "\u001b[1;31mZeroDivisionError\u001b[0m: Helloo.."
     ]
    }
   ],
   "source": [
    "raise ZeroDivisionError(\"Helloo..\")"
   ]
  },
  {
   "cell_type": "code",
   "execution_count": 1,
   "metadata": {},
   "outputs": [],
   "source": [
    "#check whether the candidate is eligible for voting based on age(>18)\n",
    "#list 10 exceptions with example"
   ]
  },
  {
   "cell_type": "code",
   "execution_count": 5,
   "metadata": {},
   "outputs": [
    {
     "name": "stdout",
     "output_type": "stream",
     "text": [
      "Enter age: 15\n"
     ]
    },
    {
     "ename": "Exception",
     "evalue": "Not Eligible",
     "output_type": "error",
     "traceback": [
      "\u001b[1;31m---------------------------------------------------------------------------\u001b[0m",
      "\u001b[1;31mException\u001b[0m                                 Traceback (most recent call last)",
      "\u001b[1;32m<ipython-input-5-53966d59fe97>\u001b[0m in \u001b[0;36m<module>\u001b[1;34m()\u001b[0m\n\u001b[0;32m      4\u001b[0m     \u001b[0mprint\u001b[0m\u001b[1;33m(\u001b[0m\u001b[1;34m\"Eligible for voting..\"\u001b[0m\u001b[1;33m)\u001b[0m\u001b[1;33m\u001b[0m\u001b[0m\n\u001b[0;32m      5\u001b[0m \u001b[1;32melse\u001b[0m\u001b[1;33m:\u001b[0m\u001b[1;33m\u001b[0m\u001b[0m\n\u001b[1;32m----> 6\u001b[1;33m     \u001b[1;32mraise\u001b[0m \u001b[0mException\u001b[0m\u001b[1;33m(\u001b[0m\u001b[1;34m\"Not Eligible\"\u001b[0m\u001b[1;33m)\u001b[0m\u001b[1;33m\u001b[0m\u001b[0m\n\u001b[0m",
      "\u001b[1;31mException\u001b[0m: Not Eligible"
     ]
    }
   ],
   "source": [
    "#check whether the candidate is eligible for voting based on age(>18)\n",
    "age=int(input(\"Enter age: \"))\n",
    "if(age>=18):\n",
    "    print(\"Eligible for voting..\")\n",
    "else:\n",
    "    raise Exception(\"Not Eligible\")"
   ]
  },
  {
   "cell_type": "code",
   "execution_count": 3,
   "metadata": {},
   "outputs": [
    {
     "name": "stdout",
     "output_type": "stream",
     "text": [
      "Enter a number: 10\n",
      "Enter a number: 0\n",
      "ZeroDivisionError: cant be divided by zero\n",
      "Done..!!\n"
     ]
    }
   ],
   "source": [
    "#ZeroDivisionError\n",
    "a=int(input(\"Enter a number: \"))\n",
    "b=int(input(\"Enter a number: \"))\n",
    "try:\n",
    "    print(a/b)\n",
    "except ZeroDivisionError:\n",
    "    print(\"cant be divided by zero\")\n",
    "finally: \n",
    "    print(\"Done..!!\")"
   ]
  },
  {
   "cell_type": "code",
   "execution_count": 2,
   "metadata": {},
   "outputs": [
    {
     "name": "stdout",
     "output_type": "stream",
     "text": [
      "Enter a number: 123.32\n",
      "Enter a number: 3.24\n",
      "38.0\n",
      "Done..!!\n"
     ]
    }
   ],
   "source": [
    "#FloatingPointError\n",
    "a=float(input(\"Enter a number: \"))\n",
    "b=float(input(\"Enter a number: \"))\n",
    "try:\n",
    "    print(a//b)\n",
    "except FloatingPointError:\n",
    "    print(\"Calculation failed\")\n",
    "finally: \n",
    "    print(\"Done..!!\")"
   ]
  },
  {
   "cell_type": "code",
   "execution_count": 7,
   "metadata": {},
   "outputs": [
    {
     "name": "stdout",
     "output_type": "stream",
     "text": [
      "Enter a number: 63\n",
      "NameError: x not found\n"
     ]
    }
   ],
   "source": [
    "#NameError\n",
    "a=int(input(\"Enter a number: \"))\n",
    "try:\n",
    "    print(x)\n",
    "except NameError:\n",
    "    print(\"x not found\")"
   ]
  },
  {
   "cell_type": "code",
   "execution_count": 11,
   "metadata": {},
   "outputs": [
    {
     "name": "stdout",
     "output_type": "stream",
     "text": [
      "ModuleNotFoundError: nump module not found\n"
     ]
    }
   ],
   "source": [
    "#ModuleNotFoundError\n",
    "try:\n",
    "    import nump\n",
    "except ModuleNotFoundError:\n",
    "    print(\"nump module not found\")"
   ]
  },
  {
   "cell_type": "code",
   "execution_count": 13,
   "metadata": {},
   "outputs": [
    {
     "name": "stdout",
     "output_type": "stream",
     "text": [
      "67\n",
      "IndexError: Index out of range\n"
     ]
    }
   ],
   "source": [
    "#IndexError\n",
    "l=[25,8,67,95]\n",
    "try:\n",
    "    print(l[2])\n",
    "    print(l[10])\n",
    "except IndexError:\n",
    "    print(\"Index out of range\")"
   ]
  },
  {
   "cell_type": "code",
   "execution_count": 17,
   "metadata": {},
   "outputs": [
    {
     "name": "stdout",
     "output_type": "stream",
     "text": [
      "Key not found\n"
     ]
    }
   ],
   "source": [
    "#KeyError\n",
    "d={5:15,6:23,8:13}\n",
    "try:\n",
    "    print(d[2])\n",
    "except KeyError:\n",
    "    print(\"Key not found\")"
   ]
  },
  {
   "cell_type": "code",
   "execution_count": 28,
   "metadata": {},
   "outputs": [
    {
     "name": "stdout",
     "output_type": "stream",
     "text": [
      "Enter a number: s\n",
      "Enter an integer value\n"
     ]
    }
   ],
   "source": [
    "#ValueError\n",
    "try:\n",
    "    a=int(input(\"Enter a number: \"))\n",
    "    print(a)\n",
    "except ValueError:\n",
    "    print(\"Enter an integer value\")    "
   ]
  },
  {
   "cell_type": "code",
   "execution_count": null,
   "metadata": {},
   "outputs": [],
   "source": []
  }
 ],
 "metadata": {
  "kernelspec": {
   "display_name": "Python 3",
   "language": "python",
   "name": "python3"
  },
  "language_info": {
   "codemirror_mode": {
    "name": "ipython",
    "version": 3
   },
   "file_extension": ".py",
   "mimetype": "text/x-python",
   "name": "python",
   "nbconvert_exporter": "python",
   "pygments_lexer": "ipython3",
   "version": "3.6.5"
  }
 },
 "nbformat": 4,
 "nbformat_minor": 2
}
