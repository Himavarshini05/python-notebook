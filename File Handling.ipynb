{
 "cells": [
  {
   "cell_type": "code",
   "execution_count": 14,
   "metadata": {},
   "outputs": [],
   "source": [
    "#Create a file and write content into it\n",
    "f=open(\"demo.txt\",\"w\")\n",
    "f.write(\"Hello...!!!\")\n",
    "f.close()"
   ]
  },
  {
   "cell_type": "code",
   "execution_count": 15,
   "metadata": {},
   "outputs": [
    {
     "name": "stdout",
     "output_type": "stream",
     "text": [
      "Hello...!!!\n"
     ]
    }
   ],
   "source": [
    "#Read the data from a file\n",
    "f=open(\"demo.txt\",\"r\")\n",
    "data=f.read()\n",
    "print(data)\n",
    "f.close()"
   ]
  },
  {
   "cell_type": "code",
   "execution_count": 16,
   "metadata": {},
   "outputs": [],
   "source": [
    "#Append data to a file\n",
    "f=open(\"demo.txt\",\"a\")\n",
    "f.write(\" Hima varshini\")\n",
    "f.close()"
   ]
  },
  {
   "cell_type": "code",
   "execution_count": 17,
   "metadata": {},
   "outputs": [
    {
     "name": "stdout",
     "output_type": "stream",
     "text": [
      "Hello...!!! Hima varshini\n"
     ]
    }
   ],
   "source": [
    "#Read data\n",
    "f=open(\"demo.txt\",\"r\")\n",
    "data=f.read()\n",
    "print(data)\n",
    "f.close()"
   ]
  },
  {
   "cell_type": "code",
   "execution_count": 18,
   "metadata": {},
   "outputs": [],
   "source": [
    "#Remove file \n",
    "import os\n",
    "os.remove(\"demo.txt\")"
   ]
  },
  {
   "cell_type": "code",
   "execution_count": 19,
   "metadata": {},
   "outputs": [],
   "source": [
    "#Create file and write data\n",
    "f=open(\"demo.txt\",\"w\")\n",
    "f.write(\"Hello...!!!\")\n",
    "f.close()"
   ]
  },
  {
   "cell_type": "code",
   "execution_count": 20,
   "metadata": {},
   "outputs": [
    {
     "name": "stdout",
     "output_type": "stream",
     "text": [
      "Hello...!!!\n"
     ]
    }
   ],
   "source": [
    "#Read data\n",
    "f=open(\"demo.txt\",\"r\")\n",
    "data=f.read()\n",
    "print(data)\n",
    "f.close()"
   ]
  },
  {
   "cell_type": "code",
   "execution_count": 21,
   "metadata": {},
   "outputs": [],
   "source": [
    "#Rename a file\n",
    "import os\n",
    "os.rename(\"demo.txt\",\"new.txt\")"
   ]
  },
  {
   "cell_type": "code",
   "execution_count": 22,
   "metadata": {},
   "outputs": [
    {
     "name": "stdout",
     "output_type": "stream",
     "text": [
      "Hello...!!!\n"
     ]
    }
   ],
   "source": [
    "#Open file and read data\n",
    "f=open(\"new.txt\",\"r\")\n",
    "data=f.read()\n",
    "print(data)\n",
    "f.close()"
   ]
  },
  {
   "cell_type": "code",
   "execution_count": 23,
   "metadata": {},
   "outputs": [],
   "source": [
    "#Using python, Create a folder, \n",
    "#a random number of files(with diff names) inside the folder, \n",
    "#insert some random text(different content),\n",
    "#File size must be 512 bytes"
   ]
  },
  {
   "cell_type": "code",
   "execution_count": 37,
   "metadata": {},
   "outputs": [],
   "source": [
    "#Create a directory\n",
    "import os\n",
    "if not os.path.exists('sample'):\n",
    "    os.makedirs('sample')"
   ]
  },
  {
   "cell_type": "code",
   "execution_count": 8,
   "metadata": {},
   "outputs": [
    {
     "name": "stdout",
     "output_type": "stream",
     "text": [
      "McZUjlvgVLXwOeygVQPqfnjcAIGCwjRlaTqYpWFbYMoIkETUbUCulGyOYhqmWdrtWIMKjqUwBbDnwfpudvJgRwmzsgwSephHWVhD\n"
     ]
    }
   ],
   "source": [
    "#Generate random text\n",
    "import random\n",
    "import string\n",
    "chars = \"\".join( [random.choice(string.ascii_letters) for i in range(100)] )\n",
    "print(chars)"
   ]
  },
  {
   "cell_type": "code",
   "execution_count": 42,
   "metadata": {},
   "outputs": [
    {
     "name": "stdout",
     "output_type": "stream",
     "text": [
      "Enter lower limit:1\n",
      "Enter upper limit:10\n"
     ]
    }
   ],
   "source": [
    "#Create a random number of files with different names and different content \n",
    "import os\n",
    "import random\n",
    "import string\n",
    "a=int(input(\"Enter lower limit:\"))\n",
    "b=int(input(\"Enter upper limit:\"))\n",
    "r=random.randint(a,b)\n",
    "for i in range(r):\n",
    "    file_name=\"sample\"+str(i)\n",
    "    f=open(file_name, \"w\")\n",
    "    f.write(\"\".join([random.choice(string.ascii_letters) for i in range(512)]))\n",
    "    f.close()"
   ]
  },
  {
   "cell_type": "code",
   "execution_count": 1,
   "metadata": {},
   "outputs": [
    {
     "name": "stdout",
     "output_type": "stream",
     "text": [
      "Enter lower limit:1\n",
      "Enter upper limit:5\n"
     ]
    }
   ],
   "source": [
    "#Create a random number of files with different names and different content in a specified directory \n",
    "import os\n",
    "import random\n",
    "import string\n",
    "a=int(input(\"Enter lower limit:\"))\n",
    "b=int(input(\"Enter upper limit:\"))\n",
    "r=random.randint(a,b)\n",
    "for i in range(r):\n",
    "    file_name=\"sample\"+str(i)\n",
    "    f=open(file_name, \"w\")\n",
    "    f.write(\"\".join([random.choice(string.ascii_letters) for i in range(512)]))\n",
    "    f.close()"
   ]
  },
  {
   "cell_type": "code",
   "execution_count": null,
   "metadata": {},
   "outputs": [],
   "source": []
  },
  {
   "cell_type": "code",
   "execution_count": null,
   "metadata": {},
   "outputs": [],
   "source": []
  }
 ],
 "metadata": {
  "kernelspec": {
   "display_name": "Python 3",
   "language": "python",
   "name": "python3"
  },
  "language_info": {
   "codemirror_mode": {
    "name": "ipython",
    "version": 3
   },
   "file_extension": ".py",
   "mimetype": "text/x-python",
   "name": "python",
   "nbconvert_exporter": "python",
   "pygments_lexer": "ipython3",
   "version": "3.6.5"
  }
 },
 "nbformat": 4,
 "nbformat_minor": 2
}
