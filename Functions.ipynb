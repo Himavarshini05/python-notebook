{
 "cells": [
  {
   "cell_type": "code",
   "execution_count": 1,
   "metadata": {},
   "outputs": [
    {
     "data": {
      "text/plain": [
       "30"
      ]
     },
     "execution_count": 1,
     "metadata": {},
     "output_type": "execute_result"
    }
   ],
   "source": [
    "#Addition\n",
    "def addition(a,b):\n",
    "    return (a+b)\n",
    "addition(10,20)"
   ]
  },
  {
   "cell_type": "code",
   "execution_count": 6,
   "metadata": {},
   "outputs": [
    {
     "name": "stdout",
     "output_type": "stream",
     "text": [
      "Enter the radius of circle : 5\n",
      "Area of circle =  78.53981633974483\n",
      "Perimeter of circle =  31.41592653589793\n"
     ]
    }
   ],
   "source": [
    "#Area and perimeter of circle\n",
    "import math\n",
    "r=int(input(\"Enter the radius of circle : \"))\n",
    "def area(r):\n",
    "    return math.pi*r*r\n",
    "def per(r):\n",
    "    return 2*math.pi*r\n",
    "print(\"Area of circle = \",area(r))\n",
    "print(\"Perimeter of circle = \",per(r))"
   ]
  },
  {
   "cell_type": "code",
   "execution_count": 11,
   "metadata": {},
   "outputs": [
    {
     "data": {
      "text/plain": [
       "100"
      ]
     },
     "execution_count": 11,
     "metadata": {},
     "output_type": "execute_result"
    }
   ],
   "source": [
    "#Addition\n",
    "def add(*l):\n",
    "    res=0\n",
    "    for i in l:\n",
    "        res=res+i\n",
    "    return res\n",
    "add(10,15,20,25,30)"
   ]
  },
  {
   "cell_type": "code",
   "execution_count": 12,
   "metadata": {},
   "outputs": [
    {
     "name": "stdout",
     "output_type": "stream",
     "text": [
      "10 12 5\n"
     ]
    },
    {
     "data": {
      "text/plain": [
       "27"
      ]
     },
     "execution_count": 12,
     "metadata": {},
     "output_type": "execute_result"
    }
   ],
   "source": [
    "#Addition\n",
    "def add(a,b,c):\n",
    "    print(a,b,c)\n",
    "    return a+b+c\n",
    "add(a=10,c=5,b=12)"
   ]
  },
  {
   "cell_type": "code",
   "execution_count": 13,
   "metadata": {},
   "outputs": [
    {
     "name": "stdout",
     "output_type": "stream",
     "text": [
      "10 20 30\n",
      "60\n",
      "None\n"
     ]
    }
   ],
   "source": [
    "#Addition\n",
    "def add(a,b,c):\n",
    "    print(a,b,c)\n",
    "    print(a+b+c)\n",
    "print(add(10,20,30))"
   ]
  },
  {
   "cell_type": "code",
   "execution_count": 15,
   "metadata": {},
   "outputs": [
    {
     "name": "stdout",
     "output_type": "stream",
     "text": [
      "Enter a number: 5\n",
      "square=  25 Cube=  125\n"
     ]
    }
   ],
   "source": [
    "#Square and Cube of a number\n",
    "def square(a):\n",
    "    return a*a\n",
    "def cube(a):\n",
    "    return(square(a)*a)\n",
    "a=int(input(\"Enter a number: \"))\n",
    "print(\"square= \",square(a),\"Cube= \",cube(a))"
   ]
  },
  {
   "cell_type": "code",
   "execution_count": 1,
   "metadata": {},
   "outputs": [
    {
     "name": "stdout",
     "output_type": "stream",
     "text": [
      "Factorial=  120\n"
     ]
    }
   ],
   "source": [
    "#Factorial\n",
    "def fact(a):\n",
    "    res=1\n",
    "    while(a>0):\n",
    "        res=res*a\n",
    "        a=a-1\n",
    "    return res\n",
    "print(\"Factorial= \",fact(5))"
   ]
  },
  {
   "cell_type": "code",
   "execution_count": 1,
   "metadata": {},
   "outputs": [
    {
     "name": "stdout",
     "output_type": "stream",
     "text": [
      "Enter a number : 12121\n",
      "12121\n",
      "palindrome\n"
     ]
    }
   ],
   "source": [
    " #palindrome\n",
    "def pal(n):\n",
    "    num=n\n",
    "    rev=0\n",
    "    while(n>0):\n",
    "        r=n%10\n",
    "        rev=(rev*10)+r\n",
    "        n=n//10\n",
    "    print(rev)\n",
    "    if(rev==num):\n",
    "        print(\"palindrome\")\n",
    "    else:\n",
    "        print(\"Not a palindrome\")\n",
    "n=int(input(\"Enter a number : \"))\n",
    "pal(n)"
   ]
  },
  {
   "cell_type": "code",
   "execution_count": 2,
   "metadata": {},
   "outputs": [
    {
     "name": "stdout",
     "output_type": "stream",
     "text": [
      "Enter the lower limit: 10\n",
      "Enter the upper limit: 100\n",
      "Count:  9\n"
     ]
    }
   ],
   "source": [
    "#count of palindromes in a given range\n",
    "def pal(a,b):\n",
    "    count=0\n",
    "    for n in range(a,b):\n",
    "        num=n\n",
    "        rev=0\n",
    "        while(n>0):\n",
    "            r=n%10\n",
    "            rev=(rev*10)+r\n",
    "            n=n//10\n",
    "        if(rev==num):\n",
    "            count=count+1\n",
    "    return count\n",
    "a=int(input(\"Enter the lower limit: \"))\n",
    "b=int(input(\"Enter the upper limit: \"))\n",
    "print(\"Count: \",pal(a,b))"
   ]
  },
  {
   "cell_type": "code",
   "execution_count": 3,
   "metadata": {},
   "outputs": [
    {
     "name": "stdout",
     "output_type": "stream",
     "text": [
      "Enter your name: Hima\n",
      "Hello  Hima\n"
     ]
    }
   ],
   "source": [
    "#input and output using functions\n",
    "def input1():\n",
    "    x=input(\"Enter your name: \")\n",
    "    return x\n",
    "def output():\n",
    "    print(\"Hello \",input1())\n",
    "output()"
   ]
  },
  {
   "cell_type": "code",
   "execution_count": 4,
   "metadata": {},
   "outputs": [
    {
     "name": "stdout",
     "output_type": "stream",
     "text": [
      "0\n",
      "1\n",
      "1\n",
      "2\n",
      "3\n",
      "5\n"
     ]
    }
   ],
   "source": [
    "#Fibonacci\n",
    "def fibonacci(n):\n",
    "    f1=0\n",
    "    f2=1\n",
    "    print(f1)\n",
    "    print(f2)\n",
    "    i=2\n",
    "    while(i<n):\n",
    "        f3=f1+f2\n",
    "        print(f3)\n",
    "        f1=f2\n",
    "        f2=f3\n",
    "        i=i+1\n",
    "fibonacci(6)"
   ]
  },
  {
   "cell_type": "code",
   "execution_count": 5,
   "metadata": {},
   "outputs": [
    {
     "name": "stdout",
     "output_type": "stream",
     "text": [
      "50\n"
     ]
    }
   ],
   "source": [
    "#Lambda function/ Anonymous function\n",
    "addition=lambda a,b : a+b\n",
    "print(addition(20,30))"
   ]
  },
  {
   "cell_type": "code",
   "execution_count": null,
   "metadata": {},
   "outputs": [],
   "source": [
    "#swap 2 number with 2 numbers\n",
    "#no of digits without using loop\n",
    "#second max value from list"
   ]
  },
  {
   "cell_type": "code",
   "execution_count": 9,
   "metadata": {},
   "outputs": [
    {
     "name": "stdout",
     "output_type": "stream",
     "text": [
      "Enter a number: 12546\n",
      "Count=  5\n"
     ]
    }
   ],
   "source": [
    "#No of digits in a number without using loops\n",
    "def count(n):\n",
    "    if n==0:\n",
    "        return 0\n",
    "    return 1+count(n//10)\n",
    "n=int(input(\"Enter a number: \"))\n",
    "print(\"Count= \",count(n))"
   ]
  },
  {
   "cell_type": "code",
   "execution_count": 8,
   "metadata": {},
   "outputs": [
    {
     "name": "stdout",
     "output_type": "stream",
     "text": [
      "Second max element in the list is:  100\n"
     ]
    }
   ],
   "source": [
    "#Second max value from the list\n",
    "l=[25,15,80,100,64,20,92,120]\n",
    "max1=0\n",
    "for i in range(len(l)):\n",
    "    if(max1<l[i]):\n",
    "        max1=l[i]\n",
    "max2=0\n",
    "for i in range(len(l)):\n",
    "    if(l[i]<max1): \n",
    "        if(max2<l[i]):\n",
    "            max2=l[i]\n",
    "print(\"Second max element in the list is: \",max2)"
   ]
  },
  {
   "cell_type": "code",
   "execution_count": 5,
   "metadata": {},
   "outputs": [
    {
     "name": "stdout",
     "output_type": "stream",
     "text": [
      "Enter a number: 10\n",
      "Enter a number: 20\n",
      "Before swap: a= 10 b= 20\n",
      "After swap: a= 20 b= 10\n"
     ]
    }
   ],
   "source": [
    "#Swap 2 numbers without usinh third number\n",
    "a=int(input(\"Enter a number: \"))\n",
    "b=int(input(\"Enter a number: \"))\n",
    "print(\"Before swap: a=\",a,\"b=\",b)\n",
    "a,b=b,a\n",
    "print(\"After swap: a=\",a,\"b=\",b)"
   ]
  },
  {
   "cell_type": "code",
   "execution_count": null,
   "metadata": {},
   "outputs": [],
   "source": []
  }
 ],
 "metadata": {
  "kernelspec": {
   "display_name": "Python 3",
   "language": "python",
   "name": "python3"
  },
  "language_info": {
   "codemirror_mode": {
    "name": "ipython",
    "version": 3
   },
   "file_extension": ".py",
   "mimetype": "text/x-python",
   "name": "python",
   "nbconvert_exporter": "python",
   "pygments_lexer": "ipython3",
   "version": "3.6.5"
  }
 },
 "nbformat": 4,
 "nbformat_minor": 2
}
